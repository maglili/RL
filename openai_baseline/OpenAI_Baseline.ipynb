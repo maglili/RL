{
 "cells": [
  {
   "cell_type": "code",
   "execution_count": 1,
   "id": "491ec563",
   "metadata": {},
   "outputs": [],
   "source": [
    "# get the neccasary stuff\n",
    "import gym\n",
    "from baselines.common.vec_env.subproc_vec_env import SubprocVecEnv\n",
    "\n",
    "# list of envs\n",
    "num_envs = 3\n",
    "envs = [lambda: gym.make(\"BreakoutNoFrameskip-v4\") for i in range(num_envs)]\n",
    "\n",
    "# Vec Env\n",
    "envs = SubprocVecEnv(envs)"
   ]
  },
  {
   "cell_type": "code",
   "execution_count": 2,
   "id": "fa2f0d56",
   "metadata": {},
   "outputs": [
    {
     "output_type": "stream",
     "name": "stdout",
     "text": [
      "Number of Envs: 3\nShape of one Env: (210, 160, 3)\n"
     ]
    }
   ],
   "source": [
    "# Get initial state\n",
    "init_obs = envs.reset()\n",
    "\n",
    "\n",
    "# We get a list of observations corresponding to parallel environments\n",
    "print(\"Number of Envs:\", len(init_obs))\n",
    "\n",
    "# Check out of the obs\n",
    "one_obs = init_obs[0]\n",
    "print(\"Shape of one Env:\", one_obs.shape)\n",
    "\n",
    "# prepare a list of actions and apply them to environment\n",
    "actions = [0, 1, 2]\n",
    "obs = envs.step(actions)"
   ]
  },
  {
   "cell_type": "code",
   "execution_count": 5,
   "id": "175ea337",
   "metadata": {},
   "outputs": [],
   "source": [
    "# render the envs\n",
    "import time \n",
    "\n",
    "# list of envs \n",
    "num_envs = 3\n",
    "envs = [lambda: gym.make(\"BreakoutNoFrameskip-v4\") for i in range(num_envs)]\n",
    "\n",
    "# Vec Env \n",
    "envs = SubprocVecEnv(envs)\n",
    "\n",
    "init_obs = envs.reset()\n",
    "\n",
    "for i in range(1000):\n",
    "    actions = [envs.action_space.sample() for i in range(num_envs)]\n",
    "    envs.step(actions)\n",
    "    envs.render()\n",
    "    time.sleep(0.001)\n",
    "\n",
    "envs.close()"
   ]
  },
  {
   "cell_type": "code",
   "execution_count": null,
   "id": "13c66a8d",
   "metadata": {},
   "outputs": [],
   "source": []
  }
 ],
 "metadata": {
  "kernelspec": {
   "name": "python3",
   "display_name": "Python 3.6.8 64-bit ('gym': venv)"
  },
  "language_info": {
   "codemirror_mode": {
    "name": "ipython",
    "version": 3
   },
   "file_extension": ".py",
   "mimetype": "text/x-python",
   "name": "python",
   "nbconvert_exporter": "python",
   "pygments_lexer": "ipython3",
   "version": "3.6.8"
  },
  "interpreter": {
   "hash": "3f23014d7f9e7bc82674344e80767fc05d7a017ba0536847c043b75b221b61c3"
  }
 },
 "nbformat": 4,
 "nbformat_minor": 5
}